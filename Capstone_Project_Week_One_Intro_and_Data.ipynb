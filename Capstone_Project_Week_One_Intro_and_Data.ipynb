{
    "cells": [
        {
            "cell_type": "markdown",
            "metadata": {
                "collapsed": true
            },
            "source": "# Capstone Project - The Battle of Neighborhoods (Week 1)"
        },
        {
            "cell_type": "markdown",
            "metadata": {},
            "source": "## Exploring venues for apartment in Manhattan"
        },
        {
            "cell_type": "markdown",
            "metadata": {},
            "source": "#### Author: Prashant Joshi"
        },
        {
            "cell_type": "markdown",
            "metadata": {},
            "source": "#### Date: May 03, 2020"
        },
        {
            "cell_type": "markdown",
            "metadata": {},
            "source": "### 1. Introduction"
        },
        {
            "cell_type": "markdown",
            "metadata": {},
            "source": "#### 1.1 Background"
        },
        {
            "cell_type": "markdown",
            "metadata": {},
            "source": "In this era of globalization, many people tend to relocate, either to a city within the same country, or to a completely different country. going to another country is always a whole new experience for anyone. People might not know about the locality they are going to, and might not rely on the locals. Getting a proper is a tedious task. Due to this, the people, eespecially the students and working-class people suffer a lot in finding a better place to rent which is affordable and nearer to several ameneties. These things eventually becomes turning factors in searching the places for rent."
        },
        {
            "cell_type": "markdown",
            "metadata": {},
            "source": "#### 1.2 Problem"
        },
        {
            "cell_type": "markdown",
            "metadata": {},
            "source": "To overcome this, one of the several possible ways is to analyze the current location and target location, keeping in mind that the target location must have possible ameneties within the proximity. To achieve this, considering Manhattan as the target location, I want to find the place to be rented, with following characteristics - "
        },
        {
            "cell_type": "markdown",
            "metadata": {},
            "source": "<ul>\n    <li>Apartment having atleast 2 bedrooms</li>\n    <li>Monthly rent must not exceed UD$7000/month</li>\n    <li>Locality having similar ameneties and venues as compared to current location</li>\n    <li>Apartment having walking distance from a subway metro station</li>\n</ul>"
        },
        {
            "cell_type": "markdown",
            "metadata": {},
            "source": "#### 1.3 Interest"
        },
        {
            "cell_type": "markdown",
            "metadata": {},
            "source": "The person who may have desire to relocate to overseas cites like Manhattan might get benefit from this project. International students and the working people being shifted to Manhattan may find this project relevant and help themselves with finding a better apartment."
        },
        {
            "cell_type": "markdown",
            "metadata": {},
            "source": "### 2. Data"
        },
        {
            "cell_type": "markdown",
            "metadata": {},
            "source": "#### 2.1 Data Sources"
        },
        {
            "cell_type": "markdown",
            "metadata": {},
            "source": "Given below is the list of data required in this project:"
        },
        {
            "cell_type": "markdown",
            "metadata": {},
            "source": "<ul>\n    <li>Alongwith geodata, list of boroughs and neighborhoods of Manhattan</li>\n    <li>Dataset of subway metro stations with their respective locations</li>\n    <li>Dataset of Apartments for rent containing address and price respectively</li>\n    <li>List of all neighbouhoods of Manhattan to be used to cluster</li>\n</ul>"
        },
        {
            "cell_type": "markdown",
            "metadata": {},
            "source": "#### 2.2 Data Cleaning"
        },
        {
            "cell_type": "markdown",
            "metadata": {},
            "source": "Data will be used in following manner:"
        },
        {
            "cell_type": "markdown",
            "metadata": {},
            "source": "<ul>\n    <li>Use Foursquare and geopy data to map top 10 venues for all Manhattan neighborhoods and clustered in groups (as per Course LAB)</li>\n    <li>Use foursquare and geopy data to map the location of subway metro stations , separately and on top of the above clustered map in order to be able to identify the venues and ammenities near each metro station, or explore each subway location separately</li>\n    <li>Use Foursquare and geopy data to map the location of rental places, in some form, linked to the subway locations.</li>\n    <li>create a map that depicts, for instance, the average rental price per square ft, around a radious of 1.0 mile (1.6 km) around each subway station - or a similar metrics</li>\n    <li>Addresses from rental locations will be converted to geodata( lat, long) using Geopy-distance and Nominatim.</li>\n    <li>Data will be searched in open data sources if available, from real estate sites if open to reading, libraries or other government agencies such as Metro New York MTA, etc.</li>\n</ul>"
        },
        {
            "cell_type": "code",
            "execution_count": null,
            "metadata": {},
            "outputs": [],
            "source": ""
        }
    ],
    "metadata": {
        "kernelspec": {
            "display_name": "Python 3.6",
            "language": "python",
            "name": "python3"
        },
        "language_info": {
            "codemirror_mode": {
                "name": "ipython",
                "version": 3
            },
            "file_extension": ".py",
            "mimetype": "text/x-python",
            "name": "python",
            "nbconvert_exporter": "python",
            "pygments_lexer": "ipython3",
            "version": "3.6.9"
        }
    },
    "nbformat": 4,
    "nbformat_minor": 1
}